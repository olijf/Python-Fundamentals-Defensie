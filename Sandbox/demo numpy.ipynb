{
 "cells": [
  {
   "cell_type": "code",
   "execution_count": 22,
   "id": "20c410d0",
   "metadata": {},
   "outputs": [],
   "source": [
    "import numpy as np\n",
    "import pandas as pd\n",
    "import matplotlib.pyplot as plt"
   ]
  },
  {
   "cell_type": "code",
   "execution_count": 12,
   "id": "ece8fb8d",
   "metadata": {},
   "outputs": [],
   "source": [
    "x = np.arange(0, 10, 0.1)\n",
    "for i in x:\n",
    "    print(i)"
   ]
  },
  {
   "cell_type": "code",
   "execution_count": 6,
   "id": "72796b74",
   "metadata": {},
   "outputs": [
    {
     "data": {
      "text/plain": [
       "numpy.ndarray"
      ]
     },
     "execution_count": 6,
     "metadata": {},
     "output_type": "execute_result"
    }
   ],
   "source": [
    "type(x)"
   ]
  },
  {
   "cell_type": "code",
   "execution_count": 7,
   "id": "82f1d501",
   "metadata": {},
   "outputs": [
    {
     "data": {
      "text/plain": [
       "array([[0, 1, 2],\n",
       "       [3, 4, 5],\n",
       "       [6, 7, 8]])"
      ]
     },
     "execution_count": 7,
     "metadata": {},
     "output_type": "execute_result"
    }
   ],
   "source": [
    "m = np.arange(9).reshape((3,3))\n",
    "m"
   ]
  },
  {
   "cell_type": "code",
   "execution_count": 11,
   "id": "5986f173",
   "metadata": {},
   "outputs": [
    {
     "data": {
      "text/plain": [
       "array([[0, 3, 6],\n",
       "       [1, 4, 7],\n",
       "       [2, 5, 8]])"
      ]
     },
     "execution_count": 11,
     "metadata": {},
     "output_type": "execute_result"
    }
   ],
   "source": [
    "m.T"
   ]
  },
  {
   "cell_type": "code",
   "execution_count": 15,
   "id": "07dbe520",
   "metadata": {},
   "outputs": [
    {
     "data": {
      "text/plain": [
       "array([0. , 0.1, 0.2, 0.3, 0.4, 0.5, 0.6, 0.7, 0.8, 0.9, 1. , 1.1, 1.2,\n",
       "       1.3, 1.4, 1.5, 1.6, 1.7, 1.8, 1.9, 2. , 2.1, 2.2, 2.3, 2.4, 2.5,\n",
       "       2.6, 2.7, 2.8, 2.9, 3. , 3.1, 3.2, 3.3, 3.4, 3.5, 3.6, 3.7, 3.8,\n",
       "       3.9, 4. , 4.1, 4.2, 4.3, 4.4, 4.5, 4.6, 4.7, 4.8, 4.9, 5. , 5.1,\n",
       "       5.2, 5.3, 5.4, 5.5, 5.6, 5.7, 5.8, 5.9, 6. , 6.1, 6.2, 6.3, 6.4,\n",
       "       6.5, 6.6, 6.7, 6.8, 6.9, 7. , 7.1, 7.2, 7.3, 7.4, 7.5, 7.6, 7.7,\n",
       "       7.8, 7.9, 8. , 8.1, 8.2, 8.3, 8.4, 8.5, 8.6, 8.7, 8.8, 8.9, 9. ,\n",
       "       9.1, 9.2, 9.3, 9.4, 9.5, 9.6, 9.7, 9.8, 9.9])"
      ]
     },
     "execution_count": 15,
     "metadata": {},
     "output_type": "execute_result"
    }
   ],
   "source": [
    "x"
   ]
  },
  {
   "cell_type": "code",
   "execution_count": 16,
   "id": "8d36a566",
   "metadata": {},
   "outputs": [],
   "source": [
    "y1 = np.sin(x)\n",
    "y2 = np.cos(x)"
   ]
  },
  {
   "cell_type": "code",
   "execution_count": 17,
   "id": "2442b565",
   "metadata": {},
   "outputs": [
    {
     "data": {
      "text/plain": [
       "array([ 0.        ,  0.09983342,  0.19866933,  0.29552021,  0.38941834,\n",
       "        0.47942554,  0.56464247,  0.64421769,  0.71735609,  0.78332691,\n",
       "        0.84147098,  0.89120736,  0.93203909,  0.96355819,  0.98544973,\n",
       "        0.99749499,  0.9995736 ,  0.99166481,  0.97384763,  0.94630009,\n",
       "        0.90929743,  0.86320937,  0.8084964 ,  0.74570521,  0.67546318,\n",
       "        0.59847214,  0.51550137,  0.42737988,  0.33498815,  0.23924933,\n",
       "        0.14112001,  0.04158066, -0.05837414, -0.15774569, -0.2555411 ,\n",
       "       -0.35078323, -0.44252044, -0.52983614, -0.61185789, -0.68776616,\n",
       "       -0.7568025 , -0.81827711, -0.87157577, -0.91616594, -0.95160207,\n",
       "       -0.97753012, -0.993691  , -0.99992326, -0.99616461, -0.98245261,\n",
       "       -0.95892427, -0.92581468, -0.88345466, -0.83226744, -0.77276449,\n",
       "       -0.70554033, -0.63126664, -0.55068554, -0.46460218, -0.37387666,\n",
       "       -0.2794155 , -0.1821625 , -0.0830894 ,  0.0168139 ,  0.1165492 ,\n",
       "        0.21511999,  0.31154136,  0.40484992,  0.49411335,  0.57843976,\n",
       "        0.6569866 ,  0.72896904,  0.79366786,  0.85043662,  0.8987081 ,\n",
       "        0.93799998,  0.96791967,  0.98816823,  0.99854335,  0.99894134,\n",
       "        0.98935825,  0.96988981,  0.94073056,  0.90217183,  0.85459891,\n",
       "        0.79848711,  0.7343971 ,  0.66296923,  0.58491719,  0.50102086,\n",
       "        0.41211849,  0.31909836,  0.22288991,  0.12445442,  0.02477543,\n",
       "       -0.07515112, -0.17432678, -0.27176063, -0.36647913, -0.45753589])"
      ]
     },
     "execution_count": 17,
     "metadata": {},
     "output_type": "execute_result"
    }
   ],
   "source": [
    "y1"
   ]
  },
  {
   "cell_type": "code",
   "execution_count": 20,
   "id": "78c9c668",
   "metadata": {},
   "outputs": [
    {
     "data": {
      "text/plain": [
       "[<matplotlib.lines.Line2D at 0x12202a5f0>]"
      ]
     },
     "execution_count": 20,
     "metadata": {},
     "output_type": "execute_result"
    },
    {
     "data": {
      "image/png": "[encoded data removed]",
      "text/plain": [
       "<Figure size 432x288 with 1 Axes>"
      ]
     },
     "metadata": {
      "needs_background": "light"
     },
     "output_type": "display_data"
    }
   ],
   "source": [
    "plt.plot(x, y1)\n",
    "plt.plot(x, y2)"
   ]
  },
  {
   "cell_type": "code",
   "execution_count": 21,
   "id": "fc6ecce4",
   "metadata": {},
   "outputs": [
    {
     "name": "stdout",
     "output_type": "stream",
     "text": [
      "BankAccount.py                  demo_oo.py\r\n",
      "Car.py                          demo_pandas.py\r\n",
      "\u001b[31mDemo SciPy FFT.ipynb\u001b[m\u001b[m            demo_pandas2.py\r\n",
      "\u001b[31mSciPy - Interpolation.ipynb\u001b[m\u001b[m     demo_person.py\r\n",
      "\u001b[31mSciPy - Linear regression.ipynb\u001b[m\u001b[m demo_requests.py\r\n",
      "Server niet gevonden.xhtml      demo_sorted.py\r\n",
      "\u001b[1m\u001b[36mServer niet gevonden_bestanden\u001b[m\u001b[m  demo_urllib.py\r\n",
      "\u001b[1m\u001b[36m__pycache__\u001b[m\u001b[m                     demo_vectors.py\r\n",
      "asml1.py                        dice.py\r\n",
      "banner.py                       drange.py\r\n",
      "ca-500-filtered.tsv             earthquakes.json\r\n",
      "\u001b[31mca-500.csv\u001b[m\u001b[m                      earthquakes.py\r\n",
      "circle.py                       entered_names.py\r\n",
      "class_glass.py                  exercise_5_6.py\r\n",
      "count_vowels.py                 generate_password_function.py\r\n",
      "count_words.py                  \u001b[31mguessing-game.py\u001b[m\u001b[m\r\n",
      "data.pickle                     hello.py\r\n",
      "data.txt                        hello_world.py\r\n",
      "demo if.py                      leapyear.py\r\n",
      "demo numpy.ipynb                math_pi.py\r\n",
      "demo open.py                    min_max.py\r\n",
      "demo_bankaccount.py             next.py\r\n",
      "demo_datetime.py                occurance_of_words.py\r\n",
      "demo_dicts.py                   \u001b[31mopenweathermap_with_requests.py\u001b[m\u001b[m\r\n",
      "demo_errors.py                  pandas_ca_500.py\r\n",
      "demo_exceptions.py              password.py\r\n",
      "demo_first_class.py             person.py\r\n",
      "demo_functions.py               playing_cards.py\r\n",
      "demo_if.py                      read_csv_with_pandas.ipynb\r\n",
      "demo_index.py                   read_file.py\r\n",
      "demo_lists.py                   read_with_pandas.py\r\n",
      "demo_looping.py                 strings.py\r\n",
      "demo_mathematics.py             using_my_function.py\r\n",
      "demo_matplotlib.py              variables.py\r\n",
      "demo_numpy.py                   \u001b[31mvectors_and_paths.py\u001b[m\u001b[m\r\n"
     ]
    }
   ],
   "source": [
    "!ls"
   ]
  },
  {
   "cell_type": "code",
   "execution_count": 25,
   "id": "8123fc6b",
   "metadata": {},
   "outputs": [
    {
     "data": {
      "text/html": [
       "<div>\n",
       "<style scoped>\n",
       "    .dataframe tbody tr th:only-of-type {\n",
       "        vertical-align: middle;\n",
       "    }\n",
       "\n",
       "    .dataframe tbody tr th {\n",
       "        vertical-align: top;\n",
       "    }\n",
       "\n",
       "    .dataframe thead th {\n",
       "        text-align: right;\n",
       "    }\n",
       "</style>\n",
       "<table border=\"1\" class=\"dataframe\">\n",
       "  <thead>\n",
       "    <tr style=\"text-align: right;\">\n",
       "      <th></th>\n",
       "      <th>first_name</th>\n",
       "      <th>last_name</th>\n",
       "      <th>company_name</th>\n",
       "      <th>address</th>\n",
       "      <th>city</th>\n",
       "      <th>province</th>\n",
       "      <th>postal</th>\n",
       "      <th>phone1</th>\n",
       "      <th>phone2</th>\n",
       "      <th>email</th>\n",
       "      <th>web</th>\n",
       "    </tr>\n",
       "  </thead>\n",
       "  <tbody>\n",
       "    <tr>\n",
       "      <th>0</th>\n",
       "      <td>Francoise</td>\n",
       "      <td>Rautenstrauch</td>\n",
       "      <td>Riebesell, H F Jr</td>\n",
       "      <td>2335 Canton Hwy #6</td>\n",
       "      <td>Windsor</td>\n",
       "      <td>ON</td>\n",
       "      <td>N8N 3N2</td>\n",
       "      <td>519-569-8399</td>\n",
       "      <td>519-978-6179</td>\n",
       "      <td>francoise.rautenstrauch@rautenstrauch.com</td>\n",
       "      <td>http://www.riebesellhfjr.com</td>\n",
       "    </tr>\n",
       "    <tr>\n",
       "      <th>1</th>\n",
       "      <td>Kendra</td>\n",
       "      <td>Loud</td>\n",
       "      <td>Deloitte &amp; Touche</td>\n",
       "      <td>6 Arch St #9757</td>\n",
       "      <td>Alcida</td>\n",
       "      <td>NB</td>\n",
       "      <td>E8J 2C4</td>\n",
       "      <td>506-363-1526</td>\n",
       "      <td>506-932-4472</td>\n",
       "      <td>kloud@gmail.com</td>\n",
       "      <td>http://www.deloittetouche.com</td>\n",
       "    </tr>\n",
       "    <tr>\n",
       "      <th>2</th>\n",
       "      <td>Lourdes</td>\n",
       "      <td>Bauswell</td>\n",
       "      <td>Oklahoma Neon Inc</td>\n",
       "      <td>9547 Belmont Rd #21</td>\n",
       "      <td>Belleville</td>\n",
       "      <td>ON</td>\n",
       "      <td>K8P 1B3</td>\n",
       "      <td>613-903-7043</td>\n",
       "      <td>613-638-6682</td>\n",
       "      <td>lourdes_bauswell@aol.com</td>\n",
       "      <td>http://www.oklahomaneoninc.com</td>\n",
       "    </tr>\n",
       "    <tr>\n",
       "      <th>3</th>\n",
       "      <td>Hannah</td>\n",
       "      <td>Edmison</td>\n",
       "      <td>M B A Paint Stores</td>\n",
       "      <td>73 Pittsford Victor Rd</td>\n",
       "      <td>Vancouver</td>\n",
       "      <td>BC</td>\n",
       "      <td>V5Z 3K2</td>\n",
       "      <td>604-334-3686</td>\n",
       "      <td>604-692-7694</td>\n",
       "      <td>hannah@yahoo.com</td>\n",
       "      <td>http://www.mbapaintstores.com</td>\n",
       "    </tr>\n",
       "    <tr>\n",
       "      <th>4</th>\n",
       "      <td>Tom</td>\n",
       "      <td>Loeza</td>\n",
       "      <td>Sheraton Shreveport Hotel</td>\n",
       "      <td>447 Commercial St Se</td>\n",
       "      <td>LIle-Perrot</td>\n",
       "      <td>QC</td>\n",
       "      <td>J7V 4T4</td>\n",
       "      <td>514-487-6096</td>\n",
       "      <td>514-727-4760</td>\n",
       "      <td>tom.loeza@gmail.com</td>\n",
       "      <td>http://www.sheratonshreveporthotel.com</td>\n",
       "    </tr>\n",
       "    <tr>\n",
       "      <th>...</th>\n",
       "      <td>...</td>\n",
       "      <td>...</td>\n",
       "      <td>...</td>\n",
       "      <td>...</td>\n",
       "      <td>...</td>\n",
       "      <td>...</td>\n",
       "      <td>...</td>\n",
       "      <td>...</td>\n",
       "      <td>...</td>\n",
       "      <td>...</td>\n",
       "      <td>...</td>\n",
       "    </tr>\n",
       "    <tr>\n",
       "      <th>495</th>\n",
       "      <td>Erin</td>\n",
       "      <td>Delbosque</td>\n",
       "      <td>Curtiss Wright Corp</td>\n",
       "      <td>357 W Mount Royal Ave</td>\n",
       "      <td>Longueuil</td>\n",
       "      <td>QC</td>\n",
       "      <td>J4M 2A8</td>\n",
       "      <td>450-316-7813</td>\n",
       "      <td>450-491-8703</td>\n",
       "      <td>erin@cox.net</td>\n",
       "      <td>http://www.curtisswrightcorp.com</td>\n",
       "    </tr>\n",
       "    <tr>\n",
       "      <th>496</th>\n",
       "      <td>Kassandra</td>\n",
       "      <td>Marushia</td>\n",
       "      <td>Phelps Tool &amp; Die Co Inc</td>\n",
       "      <td>123 Euclid Ave #9396</td>\n",
       "      <td>Nanaimo</td>\n",
       "      <td>BC</td>\n",
       "      <td>V9R 1C9</td>\n",
       "      <td>250-646-6446</td>\n",
       "      <td>250-571-5058</td>\n",
       "      <td>kassandra@gmail.com</td>\n",
       "      <td>http://www.phelpstooldiecoinc.com</td>\n",
       "    </tr>\n",
       "    <tr>\n",
       "      <th>497</th>\n",
       "      <td>Leslee</td>\n",
       "      <td>Matsuno</td>\n",
       "      <td>Factory Mattress Outlet</td>\n",
       "      <td>1251 E Main St #990</td>\n",
       "      <td>Quebec</td>\n",
       "      <td>QC</td>\n",
       "      <td>G1H 1A6</td>\n",
       "      <td>418-460-5773</td>\n",
       "      <td>418-543-9015</td>\n",
       "      <td>leslee_matsuno@matsuno.org</td>\n",
       "      <td>http://www.factorymattressoutlet.com</td>\n",
       "    </tr>\n",
       "    <tr>\n",
       "      <th>498</th>\n",
       "      <td>Daniel</td>\n",
       "      <td>Dobler</td>\n",
       "      <td>Cosgroves N End Plbg &amp; Hdwr Co</td>\n",
       "      <td>259 W 17th St #39</td>\n",
       "      <td>Beresford</td>\n",
       "      <td>NB</td>\n",
       "      <td>E8K 1B7</td>\n",
       "      <td>506-617-2607</td>\n",
       "      <td>506-951-8403</td>\n",
       "      <td>ddobler@dobler.com</td>\n",
       "      <td>http://www.cosgrovesnendplbghdwrco.com</td>\n",
       "    </tr>\n",
       "    <tr>\n",
       "      <th>499</th>\n",
       "      <td>Antonio</td>\n",
       "      <td>Unruh</td>\n",
       "      <td>Mission Lincoln Properties</td>\n",
       "      <td>9 Route 38</td>\n",
       "      <td>Port Coquitlam</td>\n",
       "      <td>BC</td>\n",
       "      <td>V3C 2Z4</td>\n",
       "      <td>604-624-7690</td>\n",
       "      <td>604-966-9833</td>\n",
       "      <td>antonio.unruh@hotmail.com</td>\n",
       "      <td>http://www.missionlincolnproperties.com</td>\n",
       "    </tr>\n",
       "  </tbody>\n",
       "</table>\n",
       "<p>500 rows × 11 columns</p>\n",
       "</div>"
      ],
      "text/plain": [
       "    first_name      last_name                    company_name  \\\n",
       "0    Francoise  Rautenstrauch               Riebesell, H F Jr   \n",
       "1       Kendra           Loud               Deloitte & Touche   \n",
       "2      Lourdes       Bauswell               Oklahoma Neon Inc   \n",
       "3       Hannah        Edmison              M B A Paint Stores   \n",
       "4          Tom          Loeza       Sheraton Shreveport Hotel   \n",
       "..         ...            ...                             ...   \n",
       "495       Erin      Delbosque             Curtiss Wright Corp   \n",
       "496  Kassandra       Marushia        Phelps Tool & Die Co Inc   \n",
       "497     Leslee        Matsuno         Factory Mattress Outlet   \n",
       "498     Daniel         Dobler  Cosgroves N End Plbg & Hdwr Co   \n",
       "499    Antonio          Unruh      Mission Lincoln Properties   \n",
       "\n",
       "                    address            city province   postal        phone1  \\\n",
       "0        2335 Canton Hwy #6         Windsor       ON  N8N 3N2  519-569-8399   \n",
       "1           6 Arch St #9757          Alcida       NB  E8J 2C4  506-363-1526   \n",
       "2       9547 Belmont Rd #21      Belleville       ON  K8P 1B3  613-903-7043   \n",
       "3    73 Pittsford Victor Rd       Vancouver       BC  V5Z 3K2  604-334-3686   \n",
       "4      447 Commercial St Se     LIle-Perrot       QC  J7V 4T4  514-487-6096   \n",
       "..                      ...             ...      ...      ...           ...   \n",
       "495   357 W Mount Royal Ave       Longueuil       QC  J4M 2A8  450-316-7813   \n",
       "496    123 Euclid Ave #9396         Nanaimo       BC  V9R 1C9  250-646-6446   \n",
       "497     1251 E Main St #990          Quebec       QC  G1H 1A6  418-460-5773   \n",
       "498       259 W 17th St #39       Beresford       NB  E8K 1B7  506-617-2607   \n",
       "499              9 Route 38  Port Coquitlam       BC  V3C 2Z4  604-624-7690   \n",
       "\n",
       "           phone2                                      email  \\\n",
       "0    519-978-6179  francoise.rautenstrauch@rautenstrauch.com   \n",
       "1    506-932-4472                            kloud@gmail.com   \n",
       "2    613-638-6682                   lourdes_bauswell@aol.com   \n",
       "3    604-692-7694                           hannah@yahoo.com   \n",
       "4    514-727-4760                        tom.loeza@gmail.com   \n",
       "..            ...                                        ...   \n",
       "495  450-491-8703                               erin@cox.net   \n",
       "496  250-571-5058                        kassandra@gmail.com   \n",
       "497  418-543-9015                 leslee_matsuno@matsuno.org   \n",
       "498  506-951-8403                         ddobler@dobler.com   \n",
       "499  604-966-9833                  antonio.unruh@hotmail.com   \n",
       "\n",
       "                                         web  \n",
       "0               http://www.riebesellhfjr.com  \n",
       "1              http://www.deloittetouche.com  \n",
       "2             http://www.oklahomaneoninc.com  \n",
       "3              http://www.mbapaintstores.com  \n",
       "4     http://www.sheratonshreveporthotel.com  \n",
       "..                                       ...  \n",
       "495         http://www.curtisswrightcorp.com  \n",
       "496        http://www.phelpstooldiecoinc.com  \n",
       "497     http://www.factorymattressoutlet.com  \n",
       "498   http://www.cosgrovesnendplbghdwrco.com  \n",
       "499  http://www.missionlincolnproperties.com  \n",
       "\n",
       "[500 rows x 11 columns]"
      ]
     },
     "execution_count": 25,
     "metadata": {},
     "output_type": "execute_result"
    }
   ],
   "source": [
    "filename = 'ca-500.csv'\n",
    "df = pd.read_csv(filename, sep=';')\n",
    "df"
   ]
  },
  {
   "cell_type": "code",
   "execution_count": 27,
   "id": "0502df86",
   "metadata": {},
   "outputs": [
    {
     "data": {
      "text/html": [
       "<div>\n",
       "<style scoped>\n",
       "    .dataframe tbody tr th:only-of-type {\n",
       "        vertical-align: middle;\n",
       "    }\n",
       "\n",
       "    .dataframe tbody tr th {\n",
       "        vertical-align: top;\n",
       "    }\n",
       "\n",
       "    .dataframe thead th {\n",
       "        text-align: right;\n",
       "    }\n",
       "</style>\n",
       "<table border=\"1\" class=\"dataframe\">\n",
       "  <thead>\n",
       "    <tr style=\"text-align: right;\">\n",
       "      <th></th>\n",
       "      <th>first_name</th>\n",
       "      <th>last_name</th>\n",
       "      <th>city</th>\n",
       "    </tr>\n",
       "  </thead>\n",
       "  <tbody>\n",
       "    <tr>\n",
       "      <th>67</th>\n",
       "      <td>Mammie</td>\n",
       "      <td>Cisney</td>\n",
       "      <td>Montreal</td>\n",
       "    </tr>\n",
       "    <tr>\n",
       "      <th>109</th>\n",
       "      <td>Tesha</td>\n",
       "      <td>Brang</td>\n",
       "      <td>Montreal</td>\n",
       "    </tr>\n",
       "    <tr>\n",
       "      <th>233</th>\n",
       "      <td>Harris</td>\n",
       "      <td>Sheck</td>\n",
       "      <td>Montreal</td>\n",
       "    </tr>\n",
       "    <tr>\n",
       "      <th>236</th>\n",
       "      <td>Maddie</td>\n",
       "      <td>Foulds</td>\n",
       "      <td>Montreal</td>\n",
       "    </tr>\n",
       "    <tr>\n",
       "      <th>239</th>\n",
       "      <td>Steffanie</td>\n",
       "      <td>Meinen</td>\n",
       "      <td>Montreal</td>\n",
       "    </tr>\n",
       "    <tr>\n",
       "      <th>315</th>\n",
       "      <td>Val</td>\n",
       "      <td>Bigaud</td>\n",
       "      <td>Montreal</td>\n",
       "    </tr>\n",
       "    <tr>\n",
       "      <th>350</th>\n",
       "      <td>Denny</td>\n",
       "      <td>Zeanah</td>\n",
       "      <td>Montreal</td>\n",
       "    </tr>\n",
       "    <tr>\n",
       "      <th>411</th>\n",
       "      <td>Luann</td>\n",
       "      <td>Michon</td>\n",
       "      <td>Montreal</td>\n",
       "    </tr>\n",
       "    <tr>\n",
       "      <th>422</th>\n",
       "      <td>Verona</td>\n",
       "      <td>Jobst</td>\n",
       "      <td>Montreal</td>\n",
       "    </tr>\n",
       "    <tr>\n",
       "      <th>424</th>\n",
       "      <td>Rikki</td>\n",
       "      <td>Montalgo</td>\n",
       "      <td>Montreal</td>\n",
       "    </tr>\n",
       "    <tr>\n",
       "      <th>468</th>\n",
       "      <td>Ricki</td>\n",
       "      <td>Traux</td>\n",
       "      <td>Montreal</td>\n",
       "    </tr>\n",
       "    <tr>\n",
       "      <th>483</th>\n",
       "      <td>Clemencia</td>\n",
       "      <td>Momplaisir</td>\n",
       "      <td>Montreal</td>\n",
       "    </tr>\n",
       "  </tbody>\n",
       "</table>\n",
       "</div>"
      ],
      "text/plain": [
       "    first_name   last_name      city\n",
       "67      Mammie      Cisney  Montreal\n",
       "109      Tesha       Brang  Montreal\n",
       "233     Harris       Sheck  Montreal\n",
       "236     Maddie      Foulds  Montreal\n",
       "239  Steffanie      Meinen  Montreal\n",
       "315        Val      Bigaud  Montreal\n",
       "350      Denny      Zeanah  Montreal\n",
       "411      Luann      Michon  Montreal\n",
       "422     Verona       Jobst  Montreal\n",
       "424      Rikki    Montalgo  Montreal\n",
       "468      Ricki       Traux  Montreal\n",
       "483  Clemencia  Momplaisir  Montreal"
      ]
     },
     "execution_count": 27,
     "metadata": {},
     "output_type": "execute_result"
    }
   ],
   "source": [
    "df.loc[df['city']=='Montreal', ['first_name','last_name','city']]"
   ]
  },
  {
   "cell_type": "code",
   "execution_count": 31,
   "id": "479134da",
   "metadata": {},
   "outputs": [
    {
     "data": {
      "text/plain": [
       "Calgary            19\n",
       "Montreal           12\n",
       "Etobicoke          11\n",
       "Surrey              9\n",
       "Vancouver           9\n",
       "                   ..\n",
       "St Thomas           1\n",
       "Port Moody          1\n",
       "Greenfield Park     1\n",
       "Newmarket           1\n",
       "Port Coquitlam      1\n",
       "Name: city, Length: 227, dtype: int64"
      ]
     },
     "execution_count": 31,
     "metadata": {},
     "output_type": "execute_result"
    }
   ],
   "source": [
    "df['city'].value_counts()"
   ]
  },
  {
   "cell_type": "code",
   "execution_count": null,
   "id": "18ec7b5a",
   "metadata": {},
   "outputs": [],
   "source": []
  }
 ],
 "metadata": {
  "kernelspec": {
   "display_name": "Python 3 (ipykernel)",
   "language": "python",
   "name": "python3"
  },
  "language_info": {
   "codemirror_mode": {
    "name": "ipython",
    "version": 3
   },
   "file_extension": ".py",
   "mimetype": "text/x-python",
   "name": "python",
   "nbconvert_exporter": "python",
   "pygments_lexer": "ipython3",
   "version": "3.10.2"
  }
 },
 "nbformat": 4,
 "nbformat_minor": 5
}
