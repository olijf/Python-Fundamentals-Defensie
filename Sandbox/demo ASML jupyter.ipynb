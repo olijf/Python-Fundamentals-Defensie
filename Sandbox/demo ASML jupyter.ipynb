{
 "cells": [
  {
   "cell_type": "code",
   "execution_count": 38,
   "id": "c8d70030",
   "metadata": {},
   "outputs": [],
   "source": [
    "import numpy as np\n",
    "import pandas as pd\n",
    "import matplotlib.pyplot as plt"
   ]
  },
  {
   "cell_type": "code",
   "execution_count": 4,
   "id": "e6a15840",
   "metadata": {},
   "outputs": [
    {
     "data": {
      "text/plain": [
       "[1, 4, 2, 7, 9, 3, 4]"
      ]
     },
     "execution_count": 4,
     "metadata": {},
     "output_type": "execute_result"
    }
   ],
   "source": [
    "numbers = [1,4,2,7,9,3,4]\n",
    "numbers"
   ]
  },
  {
   "cell_type": "code",
   "execution_count": 5,
   "id": "a8be7837",
   "metadata": {},
   "outputs": [],
   "source": [
    "a = np.array(numbers)"
   ]
  },
  {
   "cell_type": "code",
   "execution_count": 6,
   "id": "3d1bdcf0",
   "metadata": {},
   "outputs": [
    {
     "data": {
      "text/plain": [
       "array([1, 4, 2, 7, 9, 3, 4])"
      ]
     },
     "execution_count": 6,
     "metadata": {},
     "output_type": "execute_result"
    }
   ],
   "source": [
    "a"
   ]
  },
  {
   "cell_type": "code",
   "execution_count": 7,
   "id": "c64e4497",
   "metadata": {},
   "outputs": [
    {
     "data": {
      "text/plain": [
       "numpy.ndarray"
      ]
     },
     "execution_count": 7,
     "metadata": {},
     "output_type": "execute_result"
    }
   ],
   "source": [
    "type(a)"
   ]
  },
  {
   "cell_type": "code",
   "execution_count": 12,
   "id": "053c17c0",
   "metadata": {},
   "outputs": [
    {
     "data": {
      "text/plain": [
       "array([100, 400, 200, 700, 900, 300, 400])"
      ]
     },
     "execution_count": 12,
     "metadata": {},
     "output_type": "execute_result"
    }
   ],
   "source": [
    "a * 100"
   ]
  },
  {
   "cell_type": "code",
   "execution_count": 13,
   "id": "6aae8daa",
   "metadata": {},
   "outputs": [
    {
     "data": {
      "text/plain": [
       "[100, 400, 200, 700, 900, 300, 400]"
      ]
     },
     "execution_count": 13,
     "metadata": {},
     "output_type": "execute_result"
    }
   ],
   "source": [
    "[x*100 for x in numbers]"
   ]
  },
  {
   "cell_type": "code",
   "execution_count": 15,
   "id": "3c440faa",
   "metadata": {},
   "outputs": [
    {
     "data": {
      "text/plain": [
       "array([1, 2, 3, 4, 5, 6, 7, 8, 9])"
      ]
     },
     "execution_count": 15,
     "metadata": {},
     "output_type": "execute_result"
    }
   ],
   "source": [
    "a = np.arange(1, 10)\n",
    "a"
   ]
  },
  {
   "cell_type": "code",
   "execution_count": 17,
   "id": "7103ec22",
   "metadata": {},
   "outputs": [
    {
     "data": {
      "text/plain": [
       "array([[1, 2, 3],\n",
       "       [4, 5, 6],\n",
       "       [7, 8, 9]])"
      ]
     },
     "execution_count": 17,
     "metadata": {},
     "output_type": "execute_result"
    }
   ],
   "source": [
    "m = np.arange(1, 10).reshape((3,3))\n",
    "m"
   ]
  },
  {
   "cell_type": "code",
   "execution_count": 18,
   "id": "c7c44fb8",
   "metadata": {},
   "outputs": [
    {
     "data": {
      "text/plain": [
       "array([[1, 4, 7],\n",
       "       [2, 5, 8],\n",
       "       [3, 6, 9]])"
      ]
     },
     "execution_count": 18,
     "metadata": {},
     "output_type": "execute_result"
    }
   ],
   "source": [
    "m.T"
   ]
  },
  {
   "cell_type": "code",
   "execution_count": 28,
   "id": "bff7b4dc",
   "metadata": {},
   "outputs": [
    {
     "data": {
      "text/plain": [
       "array([0. , 0.1, 0.2, 0.3, 0.4, 0.5, 0.6, 0.7, 0.8, 0.9, 1. , 1.1, 1.2,\n",
       "       1.3, 1.4, 1.5, 1.6, 1.7, 1.8, 1.9, 2. , 2.1, 2.2, 2.3, 2.4, 2.5,\n",
       "       2.6, 2.7, 2.8, 2.9, 3. , 3.1, 3.2, 3.3, 3.4, 3.5, 3.6, 3.7, 3.8,\n",
       "       3.9, 4. , 4.1, 4.2, 4.3, 4.4, 4.5, 4.6, 4.7, 4.8, 4.9, 5. , 5.1,\n",
       "       5.2, 5.3, 5.4, 5.5, 5.6, 5.7, 5.8, 5.9, 6. , 6.1, 6.2, 6.3, 6.4,\n",
       "       6.5, 6.6, 6.7, 6.8, 6.9, 7. , 7.1, 7.2, 7.3, 7.4, 7.5, 7.6, 7.7,\n",
       "       7.8, 7.9, 8. , 8.1, 8.2, 8.3, 8.4, 8.5, 8.6, 8.7, 8.8, 8.9, 9. ,\n",
       "       9.1, 9.2, 9.3, 9.4, 9.5, 9.6, 9.7, 9.8, 9.9])"
      ]
     },
     "execution_count": 28,
     "metadata": {},
     "output_type": "execute_result"
    }
   ],
   "source": [
    "x = np.arange(0, 10, 0.1)\n",
    "x"
   ]
  },
  {
   "cell_type": "code",
   "execution_count": 33,
   "id": "ce9dc98e",
   "metadata": {},
   "outputs": [],
   "source": [
    "y1 = np.sin(x)\n",
    "y2 = np.cos(x)/(x+1)"
   ]
  },
  {
   "cell_type": "code",
   "execution_count": 37,
   "id": "5f29bb15",
   "metadata": {},
   "outputs": [
    {
     "data": {
      "text/plain": [
       "<matplotlib.lines.Line2D at 0x17fec47f0>"
      ]
     },
     "execution_count": 37,
     "metadata": {},
     "output_type": "execute_result"
    },
    {
     "data": {
      "image/png": "[encoded data removed]",
      "text/plain": [
       "<Figure size 432x288 with 1 Axes>"
      ]
     },
     "metadata": {
      "needs_background": "light"
     },
     "output_type": "display_data"
    }
   ],
   "source": [
    "plt.plot(x, y1)\n",
    "plt.plot(x, y2)\n",
    "plt.axhline(0, color='black')\n",
    "\n"
   ]
  },
  {
   "cell_type": "code",
   "execution_count": 32,
   "id": "6bfde8dd",
   "metadata": {},
   "outputs": [
    {
     "name": "stdout",
     "output_type": "stream",
     "text": [
      "BankAccount.py                  demo_numpy.py\r\n",
      "Car.py                          demo_oo.py\r\n",
      "\u001b[31mDemo SciPy FFT.ipynb\u001b[m\u001b[m            demo_pandas.py\r\n",
      "\u001b[31mSciPy - Interpolation.ipynb\u001b[m\u001b[m     demo_pandas2.py\r\n",
      "\u001b[31mSciPy - Linear regression.ipynb\u001b[m\u001b[m demo_person.py\r\n",
      "Server niet gevonden.xhtml      demo_requests.py\r\n",
      "\u001b[1m\u001b[36mServer niet gevonden_bestanden\u001b[m\u001b[m  demo_sorted.py\r\n",
      "\u001b[1m\u001b[36m__pycache__\u001b[m\u001b[m                     demo_urllib.py\r\n",
      "asml1.py                        demo_vectors.py\r\n",
      "banner.py                       dice.py\r\n",
      "break continue.py               drange.py\r\n",
      "ca-500-filtered.tsv             earthquakes.json\r\n",
      "\u001b[31mca-500.csv\u001b[m\u001b[m                      earthquakes.py\r\n",
      "circle.py                       email_addresses.txt\r\n",
      "class_glass.py                  entered_names.py\r\n",
      "count_vowels.py                 exercise_5_6.py\r\n",
      "count_words.py                  figure.png\r\n",
      "data.pickle                     generate_password_function.py\r\n",
      "data.txt                        \u001b[31mguessing-game.py\u001b[m\u001b[m\r\n",
      "demo ASML jupyter.ipynb         hello.py\r\n",
      "demo api.py                     hello_world.py\r\n",
      "demo hig low.py                 leapyear.py\r\n",
      "demo if.py                      math_pi.py\r\n",
      "demo indent.py                  min_max.py\r\n",
      "demo numpy.ipynb                my_function_library.py\r\n",
      "demo open.py                    next.py\r\n",
      "demo read_csv.py                occurance_of_words.py\r\n",
      "demo turtle.py                  \u001b[31mopenweathermap_with_requests.py\u001b[m\u001b[m\r\n",
      "demo vector.py                  pandas_ca_500.py\r\n",
      "demo.txt                        password.py\r\n",
      "demo_bankaccount.py             person.py\r\n",
      "demo_datetime.py                playing_cards.py\r\n",
      "demo_dicts.py                   read_csv_with_pandas.ipynb\r\n",
      "demo_errors.py                  read_file.py\r\n",
      "demo_exceptions.py              read_textfile.py\r\n",
      "demo_first_class.py             read_with_pandas.py\r\n",
      "demo_functions.py               strings.py\r\n",
      "demo_if.py                      textfile.txt\r\n",
      "demo_index.py                   using_my_function.py\r\n",
      "demo_lists.py                   variables.py\r\n",
      "demo_looping.py                 \u001b[31mvectors_and_paths.py\u001b[m\u001b[m\r\n",
      "demo_mathematics.py             words.py\r\n",
      "demo_matplotlib.py\r\n"
     ]
    }
   ],
   "source": [
    "!ls"
   ]
  },
  {
   "cell_type": "code",
   "execution_count": 42,
   "id": "39371498",
   "metadata": {},
   "outputs": [],
   "source": [
    "df = pd.read_csv('ca-500.csv', sep=';')"
   ]
  },
  {
   "cell_type": "code",
   "execution_count": 43,
   "id": "cecc2883",
   "metadata": {},
   "outputs": [
    {
     "data": {
      "text/plain": [
       "pandas.core.frame.DataFrame"
      ]
     },
     "execution_count": 43,
     "metadata": {},
     "output_type": "execute_result"
    }
   ],
   "source": [
    "type(df)"
   ]
  },
  {
   "cell_type": "code",
   "execution_count": 47,
   "id": "2aeaf663",
   "metadata": {},
   "outputs": [
    {
     "data": {
      "text/html": [
       "<div>\n",
       "<style scoped>\n",
       "    .dataframe tbody tr th:only-of-type {\n",
       "        vertical-align: middle;\n",
       "    }\n",
       "\n",
       "    .dataframe tbody tr th {\n",
       "        vertical-align: top;\n",
       "    }\n",
       "\n",
       "    .dataframe thead th {\n",
       "        text-align: right;\n",
       "    }\n",
       "</style>\n",
       "<table border=\"1\" class=\"dataframe\">\n",
       "  <thead>\n",
       "    <tr style=\"text-align: right;\">\n",
       "      <th></th>\n",
       "      <th>first_name</th>\n",
       "      <th>last_name</th>\n",
       "      <th>city</th>\n",
       "    </tr>\n",
       "  </thead>\n",
       "  <tbody>\n",
       "    <tr>\n",
       "      <th>472</th>\n",
       "      <td>Marleen</td>\n",
       "      <td>Hennon</td>\n",
       "      <td>Abbotsford</td>\n",
       "    </tr>\n",
       "    <tr>\n",
       "      <th>43</th>\n",
       "      <td>Carole</td>\n",
       "      <td>Hughlett</td>\n",
       "      <td>Abbotsford</td>\n",
       "    </tr>\n",
       "    <tr>\n",
       "      <th>328</th>\n",
       "      <td>Lasandra</td>\n",
       "      <td>Frisinger</td>\n",
       "      <td>Abbotsford</td>\n",
       "    </tr>\n",
       "    <tr>\n",
       "      <th>402</th>\n",
       "      <td>Janae</td>\n",
       "      <td>Mair</td>\n",
       "      <td>Ajax</td>\n",
       "    </tr>\n",
       "    <tr>\n",
       "      <th>77</th>\n",
       "      <td>Darell</td>\n",
       "      <td>Mcalarney</td>\n",
       "      <td>Ajax</td>\n",
       "    </tr>\n",
       "    <tr>\n",
       "      <th>...</th>\n",
       "      <td>...</td>\n",
       "      <td>...</td>\n",
       "      <td>...</td>\n",
       "    </tr>\n",
       "    <tr>\n",
       "      <th>280</th>\n",
       "      <td>Paris</td>\n",
       "      <td>Bellis</td>\n",
       "      <td>Woodstock</td>\n",
       "    </tr>\n",
       "    <tr>\n",
       "      <th>113</th>\n",
       "      <td>Harley</td>\n",
       "      <td>Works</td>\n",
       "      <td>Woodstock</td>\n",
       "    </tr>\n",
       "    <tr>\n",
       "      <th>27</th>\n",
       "      <td>Hollis</td>\n",
       "      <td>Stanfield</td>\n",
       "      <td>Yellowhead County</td>\n",
       "    </tr>\n",
       "    <tr>\n",
       "      <th>305</th>\n",
       "      <td>Zoila</td>\n",
       "      <td>Lannigan</td>\n",
       "      <td>York</td>\n",
       "    </tr>\n",
       "    <tr>\n",
       "      <th>191</th>\n",
       "      <td>Dona</td>\n",
       "      <td>Larner</td>\n",
       "      <td>York</td>\n",
       "    </tr>\n",
       "  </tbody>\n",
       "</table>\n",
       "<p>500 rows × 3 columns</p>\n",
       "</div>"
      ],
      "text/plain": [
       "    first_name  last_name               city\n",
       "472    Marleen     Hennon         Abbotsford\n",
       "43      Carole   Hughlett         Abbotsford\n",
       "328   Lasandra  Frisinger         Abbotsford\n",
       "402      Janae       Mair               Ajax\n",
       "77      Darell  Mcalarney               Ajax\n",
       "..         ...        ...                ...\n",
       "280      Paris     Bellis          Woodstock\n",
       "113     Harley      Works          Woodstock\n",
       "27      Hollis  Stanfield  Yellowhead County\n",
       "305      Zoila   Lannigan               York\n",
       "191       Dona     Larner               York\n",
       "\n",
       "[500 rows x 3 columns]"
      ]
     },
     "execution_count": 47,
     "metadata": {},
     "output_type": "execute_result"
    }
   ],
   "source": [
    "df[['first_name','last_name','city']].sort_values('city')"
   ]
  },
  {
   "cell_type": "code",
   "execution_count": 55,
   "id": "127218c1",
   "metadata": {},
   "outputs": [
    {
     "data": {
      "text/html": [
       "<div>\n",
       "<style scoped>\n",
       "    .dataframe tbody tr th:only-of-type {\n",
       "        vertical-align: middle;\n",
       "    }\n",
       "\n",
       "    .dataframe tbody tr th {\n",
       "        vertical-align: top;\n",
       "    }\n",
       "\n",
       "    .dataframe thead th {\n",
       "        text-align: right;\n",
       "    }\n",
       "</style>\n",
       "<table border=\"1\" class=\"dataframe\">\n",
       "  <thead>\n",
       "    <tr style=\"text-align: right;\">\n",
       "      <th></th>\n",
       "      <th>first_name</th>\n",
       "      <th>last_name</th>\n",
       "      <th>city</th>\n",
       "      <th>email</th>\n",
       "    </tr>\n",
       "  </thead>\n",
       "  <tbody>\n",
       "    <tr>\n",
       "      <th>233</th>\n",
       "      <td>Harris</td>\n",
       "      <td>Sheck</td>\n",
       "      <td>Montreal</td>\n",
       "      <td>harris@cox.net</td>\n",
       "    </tr>\n",
       "    <tr>\n",
       "      <th>424</th>\n",
       "      <td>Rikki</td>\n",
       "      <td>Montalgo</td>\n",
       "      <td>Montreal</td>\n",
       "      <td>rikki@montalgo.com</td>\n",
       "    </tr>\n",
       "    <tr>\n",
       "      <th>422</th>\n",
       "      <td>Verona</td>\n",
       "      <td>Jobst</td>\n",
       "      <td>Montreal</td>\n",
       "      <td>verona_jobst@jobst.org</td>\n",
       "    </tr>\n",
       "    <tr>\n",
       "      <th>411</th>\n",
       "      <td>Luann</td>\n",
       "      <td>Michon</td>\n",
       "      <td>Montreal</td>\n",
       "      <td>luann@cox.net</td>\n",
       "    </tr>\n",
       "    <tr>\n",
       "      <th>350</th>\n",
       "      <td>Denny</td>\n",
       "      <td>Zeanah</td>\n",
       "      <td>Montreal</td>\n",
       "      <td>denny_zeanah@zeanah.com</td>\n",
       "    </tr>\n",
       "    <tr>\n",
       "      <th>315</th>\n",
       "      <td>Val</td>\n",
       "      <td>Bigaud</td>\n",
       "      <td>Montreal</td>\n",
       "      <td>val_bigaud@aol.com</td>\n",
       "    </tr>\n",
       "    <tr>\n",
       "      <th>239</th>\n",
       "      <td>Steffanie</td>\n",
       "      <td>Meinen</td>\n",
       "      <td>Montreal</td>\n",
       "      <td>steffanie.meinen@cox.net</td>\n",
       "    </tr>\n",
       "    <tr>\n",
       "      <th>236</th>\n",
       "      <td>Maddie</td>\n",
       "      <td>Foulds</td>\n",
       "      <td>Montreal</td>\n",
       "      <td>maddie@hotmail.com</td>\n",
       "    </tr>\n",
       "    <tr>\n",
       "      <th>468</th>\n",
       "      <td>Ricki</td>\n",
       "      <td>Traux</td>\n",
       "      <td>Montreal</td>\n",
       "      <td>ricki.traux@traux.com</td>\n",
       "    </tr>\n",
       "    <tr>\n",
       "      <th>483</th>\n",
       "      <td>Clemencia</td>\n",
       "      <td>Momplaisir</td>\n",
       "      <td>Montreal</td>\n",
       "      <td>cmomplaisir@yahoo.com</td>\n",
       "    </tr>\n",
       "    <tr>\n",
       "      <th>109</th>\n",
       "      <td>Tesha</td>\n",
       "      <td>Brang</td>\n",
       "      <td>Montreal</td>\n",
       "      <td>tesha@aol.com</td>\n",
       "    </tr>\n",
       "    <tr>\n",
       "      <th>67</th>\n",
       "      <td>Mammie</td>\n",
       "      <td>Cisney</td>\n",
       "      <td>Montreal</td>\n",
       "      <td>mammie@cox.net</td>\n",
       "    </tr>\n",
       "    <tr>\n",
       "      <th>218</th>\n",
       "      <td>Brandon</td>\n",
       "      <td>Geigel</td>\n",
       "      <td>Vancouver</td>\n",
       "      <td>bgeigel@gmail.com</td>\n",
       "    </tr>\n",
       "    <tr>\n",
       "      <th>140</th>\n",
       "      <td>Jannette</td>\n",
       "      <td>Pedder</td>\n",
       "      <td>Vancouver</td>\n",
       "      <td>jpedder@pedder.com</td>\n",
       "    </tr>\n",
       "    <tr>\n",
       "      <th>128</th>\n",
       "      <td>Mindy</td>\n",
       "      <td>Presnal</td>\n",
       "      <td>Vancouver</td>\n",
       "      <td>mpresnal@yahoo.com</td>\n",
       "    </tr>\n",
       "    <tr>\n",
       "      <th>115</th>\n",
       "      <td>Luisa</td>\n",
       "      <td>Harnish</td>\n",
       "      <td>Vancouver</td>\n",
       "      <td>lharnish@harnish.com</td>\n",
       "    </tr>\n",
       "    <tr>\n",
       "      <th>408</th>\n",
       "      <td>Maynard</td>\n",
       "      <td>Zufall</td>\n",
       "      <td>Vancouver</td>\n",
       "      <td>mzufall@gmail.com</td>\n",
       "    </tr>\n",
       "    <tr>\n",
       "      <th>108</th>\n",
       "      <td>Kaycee</td>\n",
       "      <td>Alaibilla</td>\n",
       "      <td>Vancouver</td>\n",
       "      <td>kaycee.alaibilla@yahoo.com</td>\n",
       "    </tr>\n",
       "    <tr>\n",
       "      <th>69</th>\n",
       "      <td>Janna</td>\n",
       "      <td>Bastain</td>\n",
       "      <td>Vancouver</td>\n",
       "      <td>janna@bastain.com</td>\n",
       "    </tr>\n",
       "    <tr>\n",
       "      <th>225</th>\n",
       "      <td>Bettina</td>\n",
       "      <td>Vosmus</td>\n",
       "      <td>Vancouver</td>\n",
       "      <td>bettina@hotmail.com</td>\n",
       "    </tr>\n",
       "    <tr>\n",
       "      <th>3</th>\n",
       "      <td>Hannah</td>\n",
       "      <td>Edmison</td>\n",
       "      <td>Vancouver</td>\n",
       "      <td>hannah@yahoo.com</td>\n",
       "    </tr>\n",
       "  </tbody>\n",
       "</table>\n",
       "</div>"
      ],
      "text/plain": [
       "    first_name   last_name       city                       email\n",
       "233     Harris       Sheck   Montreal              harris@cox.net\n",
       "424      Rikki    Montalgo   Montreal          rikki@montalgo.com\n",
       "422     Verona       Jobst   Montreal      verona_jobst@jobst.org\n",
       "411      Luann      Michon   Montreal               luann@cox.net\n",
       "350      Denny      Zeanah   Montreal     denny_zeanah@zeanah.com\n",
       "315        Val      Bigaud   Montreal          val_bigaud@aol.com\n",
       "239  Steffanie      Meinen   Montreal    steffanie.meinen@cox.net\n",
       "236     Maddie      Foulds   Montreal          maddie@hotmail.com\n",
       "468      Ricki       Traux   Montreal       ricki.traux@traux.com\n",
       "483  Clemencia  Momplaisir   Montreal       cmomplaisir@yahoo.com\n",
       "109      Tesha       Brang   Montreal               tesha@aol.com\n",
       "67      Mammie      Cisney   Montreal              mammie@cox.net\n",
       "218    Brandon      Geigel  Vancouver           bgeigel@gmail.com\n",
       "140   Jannette      Pedder  Vancouver          jpedder@pedder.com\n",
       "128      Mindy     Presnal  Vancouver          mpresnal@yahoo.com\n",
       "115      Luisa     Harnish  Vancouver        lharnish@harnish.com\n",
       "408    Maynard      Zufall  Vancouver           mzufall@gmail.com\n",
       "108     Kaycee   Alaibilla  Vancouver  kaycee.alaibilla@yahoo.com\n",
       "69       Janna     Bastain  Vancouver           janna@bastain.com\n",
       "225    Bettina      Vosmus  Vancouver         bettina@hotmail.com\n",
       "3       Hannah     Edmison  Vancouver            hannah@yahoo.com"
      ]
     },
     "execution_count": 55,
     "metadata": {},
     "output_type": "execute_result"
    }
   ],
   "source": [
    "df.loc[df['city'].isin(['Montreal','Vancouver']), ['first_name','last_name','city','email']].sort_values('city')"
   ]
  },
  {
   "cell_type": "code",
   "execution_count": null,
   "id": "8e9d310b",
   "metadata": {},
   "outputs": [],
   "source": []
  }
 ],
 "metadata": {
  "kernelspec": {
   "display_name": "Python 3.9.10 ('base')",
   "language": "python",
   "name": "python3910jvsc74a57bd0c6e4e9f98eb68ad3b7c296f83d20e6de614cb42e90992a65aa266555a3137d0d"
  },
  "language_info": {
   "codemirror_mode": {
    "name": "ipython",
    "version": 3
   },
   "file_extension": ".py",
   "mimetype": "text/x-python",
   "name": "python",
   "nbconvert_exporter": "python",
   "pygments_lexer": "ipython3",
   "version": "3.9.10"
  }
 },
 "nbformat": 4,
 "nbformat_minor": 5
}
